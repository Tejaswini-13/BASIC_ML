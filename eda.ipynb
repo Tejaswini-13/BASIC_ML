{
  "nbformat": 4,
  "nbformat_minor": 0,
  "metadata": {
    "colab": {
      "name": "eda.ipynb",
      "provenance": [],
      "authorship_tag": "ABX9TyNIzCm83KN/DRSSAyh4oNcN",
      "include_colab_link": true
    },
    "kernelspec": {
      "name": "python3",
      "display_name": "Python 3"
    },
    "language_info": {
      "name": "python"
    }
  },
  "cells": [
    {
      "cell_type": "markdown",
      "metadata": {
        "id": "view-in-github",
        "colab_type": "text"
      },
      "source": [
        "<a href=\"https://colab.research.google.com/github/Tejaswini-13/BASIC_ML/blob/main/eda.ipynb\" target=\"_parent\"><img src=\"https://colab.research.google.com/assets/colab-badge.svg\" alt=\"Open In Colab\"/></a>"
      ]
    },
    {
      "cell_type": "code",
      "execution_count": null,
      "metadata": {
        "colab": {
          "base_uri": "https://localhost:8080/"
        },
        "id": "11bZFGdJiMX7",
        "outputId": "0d1b7f18-001e-400e-9de8-1b4aaf846bb1"
      },
      "outputs": [
        {
          "output_type": "stream",
          "name": "stdout",
          "text": [
            "Drive already mounted at /content/drive/; to attempt to forcibly remount, call drive.mount(\"/content/drive/\", force_remount=True).\n"
          ]
        }
      ],
      "source": [
        "from google.colab import drive\n",
        "drive.mount('/content/drive/')"
      ]
    },
    {
      "cell_type": "markdown",
      "source": [
        "                                                       ASSIGNMENT-5"
      ],
      "metadata": {
        "id": "_94zW9PAAuzw"
      }
    },
    {
      "cell_type": "markdown",
      "source": [
        "IMPORT LIBRARIES"
      ],
      "metadata": {
        "id": "YOxS4nMW3VaK"
      }
    },
    {
      "cell_type": "code",
      "source": [
        "import numpy as np\n",
        "import pandas as pd\n",
        "import matplotlib.pyplot as plt\n",
        "import seaborn as sns\n"
      ],
      "metadata": {
        "id": "fX-QYRsB3huP"
      },
      "execution_count": null,
      "outputs": []
    },
    {
      "cell_type": "markdown",
      "source": [
        "READ THE DATASETS"
      ],
      "metadata": {
        "id": "47VmjX-u3q1W"
      }
    },
    {
      "cell_type": "code",
      "source": [
        "data = pd.read_csv('/content/ppp_data_dict.csv')\n",
        "data1 = pd.read_csv('/content/ppp_fraud_cases.csv')\n",
        "data2 = pd.read_csv('/content/ppp_over_150k.csv')"
      ],
      "metadata": {
        "id": "gFM5wMfHqQ7M"
      },
      "execution_count": null,
      "outputs": []
    },
    {
      "cell_type": "markdown",
      "source": [
        "1.How many features are available in the given dataset ?"
      ],
      "metadata": {
        "id": "RB8d49aI4EAy"
      }
    },
    {
      "cell_type": "code",
      "source": [
        "data.head(10)\n",
        "data1.head(10)\n",
        "data2.head(10)"
      ],
      "metadata": {
        "colab": {
          "base_uri": "https://localhost:8080/",
          "height": 682
        },
        "id": "ao_jSN534F81",
        "outputId": "36ec733b-ac9d-4578-c5ef-242c7c0b79e3"
      },
      "execution_count": null,
      "outputs": [
        {
          "output_type": "execute_result",
          "data": {
            "text/plain": [
              "   LoanNumber DateApproved  SBAOfficeCode ProcessingMethod  \\\n",
              "0  9547507704   2020-05-01            464              PPP   \n",
              "1  9777677704   2020-05-01            464              PPP   \n",
              "2  5791407702   2020-05-01           1013              PPP   \n",
              "3  6223567700   2020-05-01            920              PPP   \n",
              "4  9662437702   2020-05-01            101              PPP   \n",
              "5  9774337701   2020-05-01            101              PPP   \n",
              "6  9794577700   2020-05-01            491              PPP   \n",
              "7  9722187702   2020-05-01            101              PPP   \n",
              "8  9725917702   2020-05-01            101              PPP   \n",
              "9  9666867710   2020-05-01            101              PPP   \n",
              "\n",
              "                                       BorrowerName        BorrowerAddress  \\\n",
              "0                               sumter coatings inc  2410 highway 15 south   \n",
              "1                               pleasant places inc    7684 southrail road   \n",
              "2                            boyer childrens clinic       1850 boyer ave e   \n",
              "3                          kirtley construction inc   1661 martin ranch rd   \n",
              "4                                      aero box llc                unknown   \n",
              "5                             hudson extrusions inc                unknown   \n",
              "6  fruit cove baptist church of jacksonville fl inc      501 state road 13   \n",
              "7            miamitown auto parts and recycling inc                unknown   \n",
              "8                                    poppycocks inc                unknown   \n",
              "9                        church square pharmacy inc                unknown   \n",
              "\n",
              "       BorrowerCity BorrowerState BorrowerZip LoanStatusDate  ...  \\\n",
              "0            sumter           UNK  29150-9662     2020-12-18  ...   \n",
              "1  north charleston           UNK  29420-9000     2021-09-28  ...   \n",
              "2           seattle           UNK  98112-2922     2021-03-17  ...   \n",
              "3    san bernardino           UNK  92407-1740     2021-10-16  ...   \n",
              "4           unknown           UNK           0     2021-08-17  ...   \n",
              "5           unknown           UNK           0     2021-11-17  ...   \n",
              "6       saint johns           UNK  32259-2832     2021-02-19  ...   \n",
              "7           unknown           UNK           0     2021-02-24  ...   \n",
              "8           unknown           UNK           0     2021-08-17  ...   \n",
              "9           unknown           UNK           0     2021-04-21  ...   \n",
              "\n",
              "  TOTAL_PROCEED  PROCEED_Diff  UTILITIES_PROCEED_pct  PAYROLL_PROCEED_pct  \\\n",
              "0     769358.78           0.0                    0.0                  1.0   \n",
              "1     736927.79           0.0                    0.0                  1.0   \n",
              "2     691355.00           0.0                    0.0                  1.0   \n",
              "3     499871.00           0.0                    0.0                  1.0   \n",
              "4     367437.00           0.0                    0.0                  1.0   \n",
              "5     328840.00           0.0                    0.0                  1.0   \n",
              "6     289765.00           0.0                    0.0                  1.0   \n",
              "7     272380.00           0.0                    0.0                  1.0   \n",
              "8     257088.00           0.0                    0.0                  1.0   \n",
              "9     250000.00           0.0                    0.0                  1.0   \n",
              "\n",
              "   MORTGAGE_INTEREST_PROCEED_pct  RENT_PROCEED_pct REFINANCE_EIDL_PROCEED_pct  \\\n",
              "0                            0.0               0.0                        0.0   \n",
              "1                            0.0               0.0                        0.0   \n",
              "2                            0.0               0.0                        0.0   \n",
              "3                            0.0               0.0                        0.0   \n",
              "4                            0.0               0.0                        0.0   \n",
              "5                            0.0               0.0                        0.0   \n",
              "6                            0.0               0.0                        0.0   \n",
              "7                            0.0               0.0                        0.0   \n",
              "8                            0.0               0.0                        0.0   \n",
              "9                            0.0               0.0                        0.0   \n",
              "\n",
              "   HEALTH_CARE_PROCEED_pct DEBT_INTEREST_PROCEED_pct PROCEED_Per_Job  \n",
              "0                      0.0                       0.0        12409.01  \n",
              "1                      0.0                       0.0        10094.90  \n",
              "2                      0.0                       0.0         9218.07  \n",
              "3                      0.0                       0.0        23803.38  \n",
              "4                      0.0                       0.0        14697.48  \n",
              "5                      0.0                       0.0        14947.27  \n",
              "6                      0.0                       0.0         3255.79  \n",
              "7                      0.0                       0.0        14335.79  \n",
              "8                      0.0                       0.0        14282.67  \n",
              "9                      0.0                       0.0        14705.88  \n",
              "\n",
              "[10 rows x 66 columns]"
            ],
            "text/html": [
              "\n",
              "  <div id=\"df-ce781f7a-4f54-467f-b8af-c662e8861852\">\n",
              "    <div class=\"colab-df-container\">\n",
              "      <div>\n",
              "<style scoped>\n",
              "    .dataframe tbody tr th:only-of-type {\n",
              "        vertical-align: middle;\n",
              "    }\n",
              "\n",
              "    .dataframe tbody tr th {\n",
              "        vertical-align: top;\n",
              "    }\n",
              "\n",
              "    .dataframe thead th {\n",
              "        text-align: right;\n",
              "    }\n",
              "</style>\n",
              "<table border=\"1\" class=\"dataframe\">\n",
              "  <thead>\n",
              "    <tr style=\"text-align: right;\">\n",
              "      <th></th>\n",
              "      <th>LoanNumber</th>\n",
              "      <th>DateApproved</th>\n",
              "      <th>SBAOfficeCode</th>\n",
              "      <th>ProcessingMethod</th>\n",
              "      <th>BorrowerName</th>\n",
              "      <th>BorrowerAddress</th>\n",
              "      <th>BorrowerCity</th>\n",
              "      <th>BorrowerState</th>\n",
              "      <th>BorrowerZip</th>\n",
              "      <th>LoanStatusDate</th>\n",
              "      <th>...</th>\n",
              "      <th>TOTAL_PROCEED</th>\n",
              "      <th>PROCEED_Diff</th>\n",
              "      <th>UTILITIES_PROCEED_pct</th>\n",
              "      <th>PAYROLL_PROCEED_pct</th>\n",
              "      <th>MORTGAGE_INTEREST_PROCEED_pct</th>\n",
              "      <th>RENT_PROCEED_pct</th>\n",
              "      <th>REFINANCE_EIDL_PROCEED_pct</th>\n",
              "      <th>HEALTH_CARE_PROCEED_pct</th>\n",
              "      <th>DEBT_INTEREST_PROCEED_pct</th>\n",
              "      <th>PROCEED_Per_Job</th>\n",
              "    </tr>\n",
              "  </thead>\n",
              "  <tbody>\n",
              "    <tr>\n",
              "      <th>0</th>\n",
              "      <td>9547507704</td>\n",
              "      <td>2020-05-01</td>\n",
              "      <td>464</td>\n",
              "      <td>PPP</td>\n",
              "      <td>sumter coatings inc</td>\n",
              "      <td>2410 highway 15 south</td>\n",
              "      <td>sumter</td>\n",
              "      <td>UNK</td>\n",
              "      <td>29150-9662</td>\n",
              "      <td>2020-12-18</td>\n",
              "      <td>...</td>\n",
              "      <td>769358.78</td>\n",
              "      <td>0.0</td>\n",
              "      <td>0.0</td>\n",
              "      <td>1.0</td>\n",
              "      <td>0.0</td>\n",
              "      <td>0.0</td>\n",
              "      <td>0.0</td>\n",
              "      <td>0.0</td>\n",
              "      <td>0.0</td>\n",
              "      <td>12409.01</td>\n",
              "    </tr>\n",
              "    <tr>\n",
              "      <th>1</th>\n",
              "      <td>9777677704</td>\n",
              "      <td>2020-05-01</td>\n",
              "      <td>464</td>\n",
              "      <td>PPP</td>\n",
              "      <td>pleasant places inc</td>\n",
              "      <td>7684 southrail road</td>\n",
              "      <td>north charleston</td>\n",
              "      <td>UNK</td>\n",
              "      <td>29420-9000</td>\n",
              "      <td>2021-09-28</td>\n",
              "      <td>...</td>\n",
              "      <td>736927.79</td>\n",
              "      <td>0.0</td>\n",
              "      <td>0.0</td>\n",
              "      <td>1.0</td>\n",
              "      <td>0.0</td>\n",
              "      <td>0.0</td>\n",
              "      <td>0.0</td>\n",
              "      <td>0.0</td>\n",
              "      <td>0.0</td>\n",
              "      <td>10094.90</td>\n",
              "    </tr>\n",
              "    <tr>\n",
              "      <th>2</th>\n",
              "      <td>5791407702</td>\n",
              "      <td>2020-05-01</td>\n",
              "      <td>1013</td>\n",
              "      <td>PPP</td>\n",
              "      <td>boyer childrens clinic</td>\n",
              "      <td>1850 boyer ave e</td>\n",
              "      <td>seattle</td>\n",
              "      <td>UNK</td>\n",
              "      <td>98112-2922</td>\n",
              "      <td>2021-03-17</td>\n",
              "      <td>...</td>\n",
              "      <td>691355.00</td>\n",
              "      <td>0.0</td>\n",
              "      <td>0.0</td>\n",
              "      <td>1.0</td>\n",
              "      <td>0.0</td>\n",
              "      <td>0.0</td>\n",
              "      <td>0.0</td>\n",
              "      <td>0.0</td>\n",
              "      <td>0.0</td>\n",
              "      <td>9218.07</td>\n",
              "    </tr>\n",
              "    <tr>\n",
              "      <th>3</th>\n",
              "      <td>6223567700</td>\n",
              "      <td>2020-05-01</td>\n",
              "      <td>920</td>\n",
              "      <td>PPP</td>\n",
              "      <td>kirtley construction inc</td>\n",
              "      <td>1661 martin ranch rd</td>\n",
              "      <td>san bernardino</td>\n",
              "      <td>UNK</td>\n",
              "      <td>92407-1740</td>\n",
              "      <td>2021-10-16</td>\n",
              "      <td>...</td>\n",
              "      <td>499871.00</td>\n",
              "      <td>0.0</td>\n",
              "      <td>0.0</td>\n",
              "      <td>1.0</td>\n",
              "      <td>0.0</td>\n",
              "      <td>0.0</td>\n",
              "      <td>0.0</td>\n",
              "      <td>0.0</td>\n",
              "      <td>0.0</td>\n",
              "      <td>23803.38</td>\n",
              "    </tr>\n",
              "    <tr>\n",
              "      <th>4</th>\n",
              "      <td>9662437702</td>\n",
              "      <td>2020-05-01</td>\n",
              "      <td>101</td>\n",
              "      <td>PPP</td>\n",
              "      <td>aero box llc</td>\n",
              "      <td>unknown</td>\n",
              "      <td>unknown</td>\n",
              "      <td>UNK</td>\n",
              "      <td>0</td>\n",
              "      <td>2021-08-17</td>\n",
              "      <td>...</td>\n",
              "      <td>367437.00</td>\n",
              "      <td>0.0</td>\n",
              "      <td>0.0</td>\n",
              "      <td>1.0</td>\n",
              "      <td>0.0</td>\n",
              "      <td>0.0</td>\n",
              "      <td>0.0</td>\n",
              "      <td>0.0</td>\n",
              "      <td>0.0</td>\n",
              "      <td>14697.48</td>\n",
              "    </tr>\n",
              "    <tr>\n",
              "      <th>5</th>\n",
              "      <td>9774337701</td>\n",
              "      <td>2020-05-01</td>\n",
              "      <td>101</td>\n",
              "      <td>PPP</td>\n",
              "      <td>hudson extrusions inc</td>\n",
              "      <td>unknown</td>\n",
              "      <td>unknown</td>\n",
              "      <td>UNK</td>\n",
              "      <td>0</td>\n",
              "      <td>2021-11-17</td>\n",
              "      <td>...</td>\n",
              "      <td>328840.00</td>\n",
              "      <td>0.0</td>\n",
              "      <td>0.0</td>\n",
              "      <td>1.0</td>\n",
              "      <td>0.0</td>\n",
              "      <td>0.0</td>\n",
              "      <td>0.0</td>\n",
              "      <td>0.0</td>\n",
              "      <td>0.0</td>\n",
              "      <td>14947.27</td>\n",
              "    </tr>\n",
              "    <tr>\n",
              "      <th>6</th>\n",
              "      <td>9794577700</td>\n",
              "      <td>2020-05-01</td>\n",
              "      <td>491</td>\n",
              "      <td>PPP</td>\n",
              "      <td>fruit cove baptist church of jacksonville fl inc</td>\n",
              "      <td>501 state road 13</td>\n",
              "      <td>saint johns</td>\n",
              "      <td>UNK</td>\n",
              "      <td>32259-2832</td>\n",
              "      <td>2021-02-19</td>\n",
              "      <td>...</td>\n",
              "      <td>289765.00</td>\n",
              "      <td>0.0</td>\n",
              "      <td>0.0</td>\n",
              "      <td>1.0</td>\n",
              "      <td>0.0</td>\n",
              "      <td>0.0</td>\n",
              "      <td>0.0</td>\n",
              "      <td>0.0</td>\n",
              "      <td>0.0</td>\n",
              "      <td>3255.79</td>\n",
              "    </tr>\n",
              "    <tr>\n",
              "      <th>7</th>\n",
              "      <td>9722187702</td>\n",
              "      <td>2020-05-01</td>\n",
              "      <td>101</td>\n",
              "      <td>PPP</td>\n",
              "      <td>miamitown auto parts and recycling inc</td>\n",
              "      <td>unknown</td>\n",
              "      <td>unknown</td>\n",
              "      <td>UNK</td>\n",
              "      <td>0</td>\n",
              "      <td>2021-02-24</td>\n",
              "      <td>...</td>\n",
              "      <td>272380.00</td>\n",
              "      <td>0.0</td>\n",
              "      <td>0.0</td>\n",
              "      <td>1.0</td>\n",
              "      <td>0.0</td>\n",
              "      <td>0.0</td>\n",
              "      <td>0.0</td>\n",
              "      <td>0.0</td>\n",
              "      <td>0.0</td>\n",
              "      <td>14335.79</td>\n",
              "    </tr>\n",
              "    <tr>\n",
              "      <th>8</th>\n",
              "      <td>9725917702</td>\n",
              "      <td>2020-05-01</td>\n",
              "      <td>101</td>\n",
              "      <td>PPP</td>\n",
              "      <td>poppycocks inc</td>\n",
              "      <td>unknown</td>\n",
              "      <td>unknown</td>\n",
              "      <td>UNK</td>\n",
              "      <td>0</td>\n",
              "      <td>2021-08-17</td>\n",
              "      <td>...</td>\n",
              "      <td>257088.00</td>\n",
              "      <td>0.0</td>\n",
              "      <td>0.0</td>\n",
              "      <td>1.0</td>\n",
              "      <td>0.0</td>\n",
              "      <td>0.0</td>\n",
              "      <td>0.0</td>\n",
              "      <td>0.0</td>\n",
              "      <td>0.0</td>\n",
              "      <td>14282.67</td>\n",
              "    </tr>\n",
              "    <tr>\n",
              "      <th>9</th>\n",
              "      <td>9666867710</td>\n",
              "      <td>2020-05-01</td>\n",
              "      <td>101</td>\n",
              "      <td>PPP</td>\n",
              "      <td>church square pharmacy inc</td>\n",
              "      <td>unknown</td>\n",
              "      <td>unknown</td>\n",
              "      <td>UNK</td>\n",
              "      <td>0</td>\n",
              "      <td>2021-04-21</td>\n",
              "      <td>...</td>\n",
              "      <td>250000.00</td>\n",
              "      <td>0.0</td>\n",
              "      <td>0.0</td>\n",
              "      <td>1.0</td>\n",
              "      <td>0.0</td>\n",
              "      <td>0.0</td>\n",
              "      <td>0.0</td>\n",
              "      <td>0.0</td>\n",
              "      <td>0.0</td>\n",
              "      <td>14705.88</td>\n",
              "    </tr>\n",
              "  </tbody>\n",
              "</table>\n",
              "<p>10 rows × 66 columns</p>\n",
              "</div>\n",
              "      <button class=\"colab-df-convert\" onclick=\"convertToInteractive('df-ce781f7a-4f54-467f-b8af-c662e8861852')\"\n",
              "              title=\"Convert this dataframe to an interactive table.\"\n",
              "              style=\"display:none;\">\n",
              "        \n",
              "  <svg xmlns=\"http://www.w3.org/2000/svg\" height=\"24px\"viewBox=\"0 0 24 24\"\n",
              "       width=\"24px\">\n",
              "    <path d=\"M0 0h24v24H0V0z\" fill=\"none\"/>\n",
              "    <path d=\"M18.56 5.44l.94 2.06.94-2.06 2.06-.94-2.06-.94-.94-2.06-.94 2.06-2.06.94zm-11 1L8.5 8.5l.94-2.06 2.06-.94-2.06-.94L8.5 2.5l-.94 2.06-2.06.94zm10 10l.94 2.06.94-2.06 2.06-.94-2.06-.94-.94-2.06-.94 2.06-2.06.94z\"/><path d=\"M17.41 7.96l-1.37-1.37c-.4-.4-.92-.59-1.43-.59-.52 0-1.04.2-1.43.59L10.3 9.45l-7.72 7.72c-.78.78-.78 2.05 0 2.83L4 21.41c.39.39.9.59 1.41.59.51 0 1.02-.2 1.41-.59l7.78-7.78 2.81-2.81c.8-.78.8-2.07 0-2.86zM5.41 20L4 18.59l7.72-7.72 1.47 1.35L5.41 20z\"/>\n",
              "  </svg>\n",
              "      </button>\n",
              "      \n",
              "  <style>\n",
              "    .colab-df-container {\n",
              "      display:flex;\n",
              "      flex-wrap:wrap;\n",
              "      gap: 12px;\n",
              "    }\n",
              "\n",
              "    .colab-df-convert {\n",
              "      background-color: #E8F0FE;\n",
              "      border: none;\n",
              "      border-radius: 50%;\n",
              "      cursor: pointer;\n",
              "      display: none;\n",
              "      fill: #1967D2;\n",
              "      height: 32px;\n",
              "      padding: 0 0 0 0;\n",
              "      width: 32px;\n",
              "    }\n",
              "\n",
              "    .colab-df-convert:hover {\n",
              "      background-color: #E2EBFA;\n",
              "      box-shadow: 0px 1px 2px rgba(60, 64, 67, 0.3), 0px 1px 3px 1px rgba(60, 64, 67, 0.15);\n",
              "      fill: #174EA6;\n",
              "    }\n",
              "\n",
              "    [theme=dark] .colab-df-convert {\n",
              "      background-color: #3B4455;\n",
              "      fill: #D2E3FC;\n",
              "    }\n",
              "\n",
              "    [theme=dark] .colab-df-convert:hover {\n",
              "      background-color: #434B5C;\n",
              "      box-shadow: 0px 1px 3px 1px rgba(0, 0, 0, 0.15);\n",
              "      filter: drop-shadow(0px 1px 2px rgba(0, 0, 0, 0.3));\n",
              "      fill: #FFFFFF;\n",
              "    }\n",
              "  </style>\n",
              "\n",
              "      <script>\n",
              "        const buttonEl =\n",
              "          document.querySelector('#df-ce781f7a-4f54-467f-b8af-c662e8861852 button.colab-df-convert');\n",
              "        buttonEl.style.display =\n",
              "          google.colab.kernel.accessAllowed ? 'block' : 'none';\n",
              "\n",
              "        async function convertToInteractive(key) {\n",
              "          const element = document.querySelector('#df-ce781f7a-4f54-467f-b8af-c662e8861852');\n",
              "          const dataTable =\n",
              "            await google.colab.kernel.invokeFunction('convertToInteractive',\n",
              "                                                     [key], {});\n",
              "          if (!dataTable) return;\n",
              "\n",
              "          const docLinkHtml = 'Like what you see? Visit the ' +\n",
              "            '<a target=\"_blank\" href=https://colab.research.google.com/notebooks/data_table.ipynb>data table notebook</a>'\n",
              "            + ' to learn more about interactive tables.';\n",
              "          element.innerHTML = '';\n",
              "          dataTable['output_type'] = 'display_data';\n",
              "          await google.colab.output.renderOutput(dataTable, element);\n",
              "          const docLink = document.createElement('div');\n",
              "          docLink.innerHTML = docLinkHtml;\n",
              "          element.appendChild(docLink);\n",
              "        }\n",
              "      </script>\n",
              "    </div>\n",
              "  </div>\n",
              "  "
            ]
          },
          "metadata": {},
          "execution_count": 47
        }
      ]
    },
    {
      "cell_type": "code",
      "source": [
        "data.describe()\n",
        "data1.describe()\n",
        "data2.describe()"
      ],
      "metadata": {
        "colab": {
          "base_uri": "https://localhost:8080/",
          "height": 394
        },
        "id": "pdMsQdG34dvY",
        "outputId": "f2283619-df50-4262-b420-8e5bd8c1f2e5"
      },
      "execution_count": null,
      "outputs": [
        {
          "output_type": "execute_result",
          "data": {
            "text/plain": [
              "         LoanNumber  SBAOfficeCode           Term  SBAGuarantyPercentage  \\\n",
              "count  4.108230e+05  410823.000000  410823.000000               410823.0   \n",
              "mean   5.405575e+09     666.510811      36.291033                  100.0   \n",
              "std    2.555352e+09     255.088024      17.231791                    0.0   \n",
              "min    1.000017e+09     101.000000       0.000000                  100.0   \n",
              "25%    3.234369e+09     457.000000      24.000000                  100.0   \n",
              "50%    5.388057e+09     679.000000      24.000000                  100.0   \n",
              "75%    7.514692e+09     914.000000      60.000000                  100.0   \n",
              "max    9.998998e+09    1094.000000     120.000000                  100.0   \n",
              "\n",
              "       InitialApprovalAmount  CurrentApprovalAmount  UndisbursedAmount  \\\n",
              "count           4.108230e+05           4.108230e+05       4.108230e+05   \n",
              "mean            5.376741e+05           5.357255e+05       1.347283e+01   \n",
              "std             7.406465e+05           7.328352e+05       5.507400e+03   \n",
              "min             1.000000e+00           1.500000e+05       0.000000e+00   \n",
              "25%             2.017000e+05           2.018964e+05       0.000000e+00   \n",
              "50%             3.014620e+05           3.013000e+05       0.000000e+00   \n",
              "75%             5.513540e+05           5.500200e+05       0.000000e+00   \n",
              "max             1.000000e+07           1.000000e+07       3.397100e+06   \n",
              "\n",
              "       ServicingLenderLocationID   JobsReported      NAICSCode  ...  \\\n",
              "count              410823.000000  410823.000000  410823.000000  ...   \n",
              "mean               107423.769816      52.213610  510732.055486  ...   \n",
              "std                144048.161936      67.729144  186326.241292  ...   \n",
              "min                    20.000000       0.000000      81.000000  ...   \n",
              "25%                 19133.000000      18.000000  336999.000000  ...   \n",
              "50%                 48270.000000      30.000000  541211.000000  ...   \n",
              "75%                119056.000000      55.000000  623110.000000  ...   \n",
              "max                533479.000000     500.000000  999990.000000  ...   \n",
              "\n",
              "       TOTAL_PROCEED   PROCEED_Diff  UTILITIES_PROCEED_pct  \\\n",
              "count   4.108220e+05  410822.000000          410822.000000   \n",
              "mean    5.357244e+05       1.565414               0.009719   \n",
              "std     7.328365e+05     276.736929               0.048537   \n",
              "min     1.499940e+05  -14997.000000               0.000000   \n",
              "25%     2.018940e+05       0.000000               0.000000   \n",
              "50%     3.012930e+05       0.000000               0.000000   \n",
              "75%     5.500260e+05       0.000000               0.000000   \n",
              "max     1.000000e+07  118732.000000               1.000000   \n",
              "\n",
              "       PAYROLL_PROCEED_pct  MORTGAGE_INTEREST_PROCEED_pct  RENT_PROCEED_pct  \\\n",
              "count        410822.000000                  410822.000000     410822.000000   \n",
              "mean              0.971196                       0.003355          0.010699   \n",
              "std               0.086670                       0.029396          0.040711   \n",
              "min               0.000000                       0.000000          0.000000   \n",
              "25%               1.000000                       0.000000          0.000000   \n",
              "50%               1.000000                       0.000000          0.000000   \n",
              "75%               1.000000                       0.000000          0.000000   \n",
              "max               1.041000                       1.000000          1.000000   \n",
              "\n",
              "       REFINANCE_EIDL_PROCEED_pct  HEALTH_CARE_PROCEED_pct  \\\n",
              "count               410822.000000            410822.000000   \n",
              "mean                     0.000545                 0.003783   \n",
              "std                      0.019984                 0.022964   \n",
              "min                      0.000000                 0.000000   \n",
              "25%                      0.000000                 0.000000   \n",
              "50%                      0.000000                 0.000000   \n",
              "75%                      0.000000                 0.000000   \n",
              "max                      1.000000                 1.000000   \n",
              "\n",
              "       DEBT_INTEREST_PROCEED_pct  PROCEED_Per_Job  \n",
              "count              410822.000000      410822.0000  \n",
              "mean                    0.000698              inf  \n",
              "std                     0.010605              NaN  \n",
              "min                     0.000000           0.0000  \n",
              "25%                     0.000000        7738.4825  \n",
              "50%                     0.000000       11172.7950  \n",
              "75%                     0.000000       15184.5350  \n",
              "max                     1.000000              inf  \n",
              "\n",
              "[8 rows x 32 columns]"
            ],
            "text/html": [
              "\n",
              "  <div id=\"df-8aa16015-ed0c-4f79-8b50-1b7a6153e4f2\">\n",
              "    <div class=\"colab-df-container\">\n",
              "      <div>\n",
              "<style scoped>\n",
              "    .dataframe tbody tr th:only-of-type {\n",
              "        vertical-align: middle;\n",
              "    }\n",
              "\n",
              "    .dataframe tbody tr th {\n",
              "        vertical-align: top;\n",
              "    }\n",
              "\n",
              "    .dataframe thead th {\n",
              "        text-align: right;\n",
              "    }\n",
              "</style>\n",
              "<table border=\"1\" class=\"dataframe\">\n",
              "  <thead>\n",
              "    <tr style=\"text-align: right;\">\n",
              "      <th></th>\n",
              "      <th>LoanNumber</th>\n",
              "      <th>SBAOfficeCode</th>\n",
              "      <th>Term</th>\n",
              "      <th>SBAGuarantyPercentage</th>\n",
              "      <th>InitialApprovalAmount</th>\n",
              "      <th>CurrentApprovalAmount</th>\n",
              "      <th>UndisbursedAmount</th>\n",
              "      <th>ServicingLenderLocationID</th>\n",
              "      <th>JobsReported</th>\n",
              "      <th>NAICSCode</th>\n",
              "      <th>...</th>\n",
              "      <th>TOTAL_PROCEED</th>\n",
              "      <th>PROCEED_Diff</th>\n",
              "      <th>UTILITIES_PROCEED_pct</th>\n",
              "      <th>PAYROLL_PROCEED_pct</th>\n",
              "      <th>MORTGAGE_INTEREST_PROCEED_pct</th>\n",
              "      <th>RENT_PROCEED_pct</th>\n",
              "      <th>REFINANCE_EIDL_PROCEED_pct</th>\n",
              "      <th>HEALTH_CARE_PROCEED_pct</th>\n",
              "      <th>DEBT_INTEREST_PROCEED_pct</th>\n",
              "      <th>PROCEED_Per_Job</th>\n",
              "    </tr>\n",
              "  </thead>\n",
              "  <tbody>\n",
              "    <tr>\n",
              "      <th>count</th>\n",
              "      <td>4.108230e+05</td>\n",
              "      <td>410823.000000</td>\n",
              "      <td>410823.000000</td>\n",
              "      <td>410823.0</td>\n",
              "      <td>4.108230e+05</td>\n",
              "      <td>4.108230e+05</td>\n",
              "      <td>4.108230e+05</td>\n",
              "      <td>410823.000000</td>\n",
              "      <td>410823.000000</td>\n",
              "      <td>410823.000000</td>\n",
              "      <td>...</td>\n",
              "      <td>4.108220e+05</td>\n",
              "      <td>410822.000000</td>\n",
              "      <td>410822.000000</td>\n",
              "      <td>410822.000000</td>\n",
              "      <td>410822.000000</td>\n",
              "      <td>410822.000000</td>\n",
              "      <td>410822.000000</td>\n",
              "      <td>410822.000000</td>\n",
              "      <td>410822.000000</td>\n",
              "      <td>410822.0000</td>\n",
              "    </tr>\n",
              "    <tr>\n",
              "      <th>mean</th>\n",
              "      <td>5.405575e+09</td>\n",
              "      <td>666.510811</td>\n",
              "      <td>36.291033</td>\n",
              "      <td>100.0</td>\n",
              "      <td>5.376741e+05</td>\n",
              "      <td>5.357255e+05</td>\n",
              "      <td>1.347283e+01</td>\n",
              "      <td>107423.769816</td>\n",
              "      <td>52.213610</td>\n",
              "      <td>510732.055486</td>\n",
              "      <td>...</td>\n",
              "      <td>5.357244e+05</td>\n",
              "      <td>1.565414</td>\n",
              "      <td>0.009719</td>\n",
              "      <td>0.971196</td>\n",
              "      <td>0.003355</td>\n",
              "      <td>0.010699</td>\n",
              "      <td>0.000545</td>\n",
              "      <td>0.003783</td>\n",
              "      <td>0.000698</td>\n",
              "      <td>inf</td>\n",
              "    </tr>\n",
              "    <tr>\n",
              "      <th>std</th>\n",
              "      <td>2.555352e+09</td>\n",
              "      <td>255.088024</td>\n",
              "      <td>17.231791</td>\n",
              "      <td>0.0</td>\n",
              "      <td>7.406465e+05</td>\n",
              "      <td>7.328352e+05</td>\n",
              "      <td>5.507400e+03</td>\n",
              "      <td>144048.161936</td>\n",
              "      <td>67.729144</td>\n",
              "      <td>186326.241292</td>\n",
              "      <td>...</td>\n",
              "      <td>7.328365e+05</td>\n",
              "      <td>276.736929</td>\n",
              "      <td>0.048537</td>\n",
              "      <td>0.086670</td>\n",
              "      <td>0.029396</td>\n",
              "      <td>0.040711</td>\n",
              "      <td>0.019984</td>\n",
              "      <td>0.022964</td>\n",
              "      <td>0.010605</td>\n",
              "      <td>NaN</td>\n",
              "    </tr>\n",
              "    <tr>\n",
              "      <th>min</th>\n",
              "      <td>1.000017e+09</td>\n",
              "      <td>101.000000</td>\n",
              "      <td>0.000000</td>\n",
              "      <td>100.0</td>\n",
              "      <td>1.000000e+00</td>\n",
              "      <td>1.500000e+05</td>\n",
              "      <td>0.000000e+00</td>\n",
              "      <td>20.000000</td>\n",
              "      <td>0.000000</td>\n",
              "      <td>81.000000</td>\n",
              "      <td>...</td>\n",
              "      <td>1.499940e+05</td>\n",
              "      <td>-14997.000000</td>\n",
              "      <td>0.000000</td>\n",
              "      <td>0.000000</td>\n",
              "      <td>0.000000</td>\n",
              "      <td>0.000000</td>\n",
              "      <td>0.000000</td>\n",
              "      <td>0.000000</td>\n",
              "      <td>0.000000</td>\n",
              "      <td>0.0000</td>\n",
              "    </tr>\n",
              "    <tr>\n",
              "      <th>25%</th>\n",
              "      <td>3.234369e+09</td>\n",
              "      <td>457.000000</td>\n",
              "      <td>24.000000</td>\n",
              "      <td>100.0</td>\n",
              "      <td>2.017000e+05</td>\n",
              "      <td>2.018964e+05</td>\n",
              "      <td>0.000000e+00</td>\n",
              "      <td>19133.000000</td>\n",
              "      <td>18.000000</td>\n",
              "      <td>336999.000000</td>\n",
              "      <td>...</td>\n",
              "      <td>2.018940e+05</td>\n",
              "      <td>0.000000</td>\n",
              "      <td>0.000000</td>\n",
              "      <td>1.000000</td>\n",
              "      <td>0.000000</td>\n",
              "      <td>0.000000</td>\n",
              "      <td>0.000000</td>\n",
              "      <td>0.000000</td>\n",
              "      <td>0.000000</td>\n",
              "      <td>7738.4825</td>\n",
              "    </tr>\n",
              "    <tr>\n",
              "      <th>50%</th>\n",
              "      <td>5.388057e+09</td>\n",
              "      <td>679.000000</td>\n",
              "      <td>24.000000</td>\n",
              "      <td>100.0</td>\n",
              "      <td>3.014620e+05</td>\n",
              "      <td>3.013000e+05</td>\n",
              "      <td>0.000000e+00</td>\n",
              "      <td>48270.000000</td>\n",
              "      <td>30.000000</td>\n",
              "      <td>541211.000000</td>\n",
              "      <td>...</td>\n",
              "      <td>3.012930e+05</td>\n",
              "      <td>0.000000</td>\n",
              "      <td>0.000000</td>\n",
              "      <td>1.000000</td>\n",
              "      <td>0.000000</td>\n",
              "      <td>0.000000</td>\n",
              "      <td>0.000000</td>\n",
              "      <td>0.000000</td>\n",
              "      <td>0.000000</td>\n",
              "      <td>11172.7950</td>\n",
              "    </tr>\n",
              "    <tr>\n",
              "      <th>75%</th>\n",
              "      <td>7.514692e+09</td>\n",
              "      <td>914.000000</td>\n",
              "      <td>60.000000</td>\n",
              "      <td>100.0</td>\n",
              "      <td>5.513540e+05</td>\n",
              "      <td>5.500200e+05</td>\n",
              "      <td>0.000000e+00</td>\n",
              "      <td>119056.000000</td>\n",
              "      <td>55.000000</td>\n",
              "      <td>623110.000000</td>\n",
              "      <td>...</td>\n",
              "      <td>5.500260e+05</td>\n",
              "      <td>0.000000</td>\n",
              "      <td>0.000000</td>\n",
              "      <td>1.000000</td>\n",
              "      <td>0.000000</td>\n",
              "      <td>0.000000</td>\n",
              "      <td>0.000000</td>\n",
              "      <td>0.000000</td>\n",
              "      <td>0.000000</td>\n",
              "      <td>15184.5350</td>\n",
              "    </tr>\n",
              "    <tr>\n",
              "      <th>max</th>\n",
              "      <td>9.998998e+09</td>\n",
              "      <td>1094.000000</td>\n",
              "      <td>120.000000</td>\n",
              "      <td>100.0</td>\n",
              "      <td>1.000000e+07</td>\n",
              "      <td>1.000000e+07</td>\n",
              "      <td>3.397100e+06</td>\n",
              "      <td>533479.000000</td>\n",
              "      <td>500.000000</td>\n",
              "      <td>999990.000000</td>\n",
              "      <td>...</td>\n",
              "      <td>1.000000e+07</td>\n",
              "      <td>118732.000000</td>\n",
              "      <td>1.000000</td>\n",
              "      <td>1.041000</td>\n",
              "      <td>1.000000</td>\n",
              "      <td>1.000000</td>\n",
              "      <td>1.000000</td>\n",
              "      <td>1.000000</td>\n",
              "      <td>1.000000</td>\n",
              "      <td>inf</td>\n",
              "    </tr>\n",
              "  </tbody>\n",
              "</table>\n",
              "<p>8 rows × 32 columns</p>\n",
              "</div>\n",
              "      <button class=\"colab-df-convert\" onclick=\"convertToInteractive('df-8aa16015-ed0c-4f79-8b50-1b7a6153e4f2')\"\n",
              "              title=\"Convert this dataframe to an interactive table.\"\n",
              "              style=\"display:none;\">\n",
              "        \n",
              "  <svg xmlns=\"http://www.w3.org/2000/svg\" height=\"24px\"viewBox=\"0 0 24 24\"\n",
              "       width=\"24px\">\n",
              "    <path d=\"M0 0h24v24H0V0z\" fill=\"none\"/>\n",
              "    <path d=\"M18.56 5.44l.94 2.06.94-2.06 2.06-.94-2.06-.94-.94-2.06-.94 2.06-2.06.94zm-11 1L8.5 8.5l.94-2.06 2.06-.94-2.06-.94L8.5 2.5l-.94 2.06-2.06.94zm10 10l.94 2.06.94-2.06 2.06-.94-2.06-.94-.94-2.06-.94 2.06-2.06.94z\"/><path d=\"M17.41 7.96l-1.37-1.37c-.4-.4-.92-.59-1.43-.59-.52 0-1.04.2-1.43.59L10.3 9.45l-7.72 7.72c-.78.78-.78 2.05 0 2.83L4 21.41c.39.39.9.59 1.41.59.51 0 1.02-.2 1.41-.59l7.78-7.78 2.81-2.81c.8-.78.8-2.07 0-2.86zM5.41 20L4 18.59l7.72-7.72 1.47 1.35L5.41 20z\"/>\n",
              "  </svg>\n",
              "      </button>\n",
              "      \n",
              "  <style>\n",
              "    .colab-df-container {\n",
              "      display:flex;\n",
              "      flex-wrap:wrap;\n",
              "      gap: 12px;\n",
              "    }\n",
              "\n",
              "    .colab-df-convert {\n",
              "      background-color: #E8F0FE;\n",
              "      border: none;\n",
              "      border-radius: 50%;\n",
              "      cursor: pointer;\n",
              "      display: none;\n",
              "      fill: #1967D2;\n",
              "      height: 32px;\n",
              "      padding: 0 0 0 0;\n",
              "      width: 32px;\n",
              "    }\n",
              "\n",
              "    .colab-df-convert:hover {\n",
              "      background-color: #E2EBFA;\n",
              "      box-shadow: 0px 1px 2px rgba(60, 64, 67, 0.3), 0px 1px 3px 1px rgba(60, 64, 67, 0.15);\n",
              "      fill: #174EA6;\n",
              "    }\n",
              "\n",
              "    [theme=dark] .colab-df-convert {\n",
              "      background-color: #3B4455;\n",
              "      fill: #D2E3FC;\n",
              "    }\n",
              "\n",
              "    [theme=dark] .colab-df-convert:hover {\n",
              "      background-color: #434B5C;\n",
              "      box-shadow: 0px 1px 3px 1px rgba(0, 0, 0, 0.15);\n",
              "      filter: drop-shadow(0px 1px 2px rgba(0, 0, 0, 0.3));\n",
              "      fill: #FFFFFF;\n",
              "    }\n",
              "  </style>\n",
              "\n",
              "      <script>\n",
              "        const buttonEl =\n",
              "          document.querySelector('#df-8aa16015-ed0c-4f79-8b50-1b7a6153e4f2 button.colab-df-convert');\n",
              "        buttonEl.style.display =\n",
              "          google.colab.kernel.accessAllowed ? 'block' : 'none';\n",
              "\n",
              "        async function convertToInteractive(key) {\n",
              "          const element = document.querySelector('#df-8aa16015-ed0c-4f79-8b50-1b7a6153e4f2');\n",
              "          const dataTable =\n",
              "            await google.colab.kernel.invokeFunction('convertToInteractive',\n",
              "                                                     [key], {});\n",
              "          if (!dataTable) return;\n",
              "\n",
              "          const docLinkHtml = 'Like what you see? Visit the ' +\n",
              "            '<a target=\"_blank\" href=https://colab.research.google.com/notebooks/data_table.ipynb>data table notebook</a>'\n",
              "            + ' to learn more about interactive tables.';\n",
              "          element.innerHTML = '';\n",
              "          dataTable['output_type'] = 'display_data';\n",
              "          await google.colab.output.renderOutput(dataTable, element);\n",
              "          const docLink = document.createElement('div');\n",
              "          docLink.innerHTML = docLinkHtml;\n",
              "          element.appendChild(docLink);\n",
              "        }\n",
              "      </script>\n",
              "    </div>\n",
              "  </div>\n",
              "  "
            ]
          },
          "metadata": {},
          "execution_count": 48
        }
      ]
    },
    {
      "cell_type": "markdown",
      "source": [
        "2.What is the data type of each f 8 rows × 32 columns eature? ( Provide in tabular format)"
      ],
      "metadata": {
        "id": "FHhNPdYo47he"
      }
    },
    {
      "cell_type": "code",
      "source": [
        "data.dtypes\n",
        "data1.dtypes\n",
        "data2.dtypes\n"
      ],
      "metadata": {
        "colab": {
          "base_uri": "https://localhost:8080/"
        },
        "id": "i8vmxRUM5JIZ",
        "outputId": "a301465c-a2db-49e1-e087-72dcb67ae370"
      },
      "execution_count": null,
      "outputs": [
        {
          "output_type": "execute_result",
          "data": {
            "text/plain": [
              "LoanNumber                      int64\n",
              "DateApproved                   object\n",
              "SBAOfficeCode                   int64\n",
              "ProcessingMethod               object\n",
              "BorrowerName                   object\n",
              "                               ...   \n",
              "RENT_PROCEED_pct              float64\n",
              "REFINANCE_EIDL_PROCEED_pct    float64\n",
              "HEALTH_CARE_PROCEED_pct       float64\n",
              "DEBT_INTEREST_PROCEED_pct     float64\n",
              "PROCEED_Per_Job               float64\n",
              "Length: 66, dtype: object"
            ]
          },
          "metadata": {},
          "execution_count": 49
        }
      ]
    },
    {
      "cell_type": "markdown",
      "source": [
        "3.What features have null values? List them"
      ],
      "metadata": {
        "id": "cSfrUdMm6Ayn"
      }
    },
    {
      "cell_type": "code",
      "source": [
        "data.isnull().sum()\n",
        "data1.isnull().sum()\n",
        "data2.isnull().sum()\n"
      ],
      "metadata": {
        "colab": {
          "base_uri": "https://localhost:8080/"
        },
        "id": "tQFEVs_R6B1q",
        "outputId": "ddb0fe4f-1d1d-4ebe-e172-9e30f3d36c1d"
      },
      "execution_count": null,
      "outputs": [
        {
          "output_type": "execute_result",
          "data": {
            "text/plain": [
              "LoanNumber                    0\n",
              "DateApproved                  0\n",
              "SBAOfficeCode                 0\n",
              "ProcessingMethod              0\n",
              "BorrowerName                  5\n",
              "                             ..\n",
              "RENT_PROCEED_pct              1\n",
              "REFINANCE_EIDL_PROCEED_pct    1\n",
              "HEALTH_CARE_PROCEED_pct       1\n",
              "DEBT_INTEREST_PROCEED_pct     1\n",
              "PROCEED_Per_Job               1\n",
              "Length: 66, dtype: int64"
            ]
          },
          "metadata": {},
          "execution_count": 50
        }
      ]
    },
    {
      "cell_type": "markdown",
      "source": [
        "4.Think about what the variables mean and what the histograms say about their values and\n",
        "their spread — are there any surprises?"
      ],
      "metadata": {
        "id": "l3i2zBh-6NXg"
      }
    },
    {
      "cell_type": "code",
      "source": [
        "mean=data2.describe().loc[\"mean\",:]\n",
        "mean"
      ],
      "metadata": {
        "colab": {
          "base_uri": "https://localhost:8080/"
        },
        "id": "N8KGGxOM6Oft",
        "outputId": "e7040f62-c97d-4e38-a132-0c37a85b961d"
      },
      "execution_count": null,
      "outputs": [
        {
          "output_type": "execute_result",
          "data": {
            "text/plain": [
              "LoanNumber                       5.405575e+09\n",
              "SBAOfficeCode                    6.665108e+02\n",
              "Term                             3.629103e+01\n",
              "SBAGuarantyPercentage            1.000000e+02\n",
              "InitialApprovalAmount            5.376741e+05\n",
              "CurrentApprovalAmount            5.357255e+05\n",
              "UndisbursedAmount                1.347283e+01\n",
              "ServicingLenderLocationID        1.074238e+05\n",
              "JobsReported                     5.221361e+01\n",
              "NAICSCode                        5.107321e+05\n",
              "UTILITIES_PROCEED                5.733558e+03\n",
              "PAYROLL_PROCEED                  5.186680e+05\n",
              "MORTGAGE_INTEREST_PROCEED        2.330916e+03\n",
              "RENT_PROCEED                     5.778873e+03\n",
              "REFINANCE_EIDL_PROCEED           2.139729e+02\n",
              "HEALTH_CARE_PROCEED              2.551196e+03\n",
              "DEBT_INTEREST_PROCEED            4.474096e+02\n",
              "OriginatingLenderLocationID      1.074122e+05\n",
              "ForgivenessAmount                4.795844e+05\n",
              "ApprovalDiff                    -1.948654e+03\n",
              "NotForgivenAmount                5.614156e+04\n",
              "ForgivenPercentage               8.915923e-01\n",
              "TOTAL_PROCEED                    5.357244e+05\n",
              "PROCEED_Diff                     1.565414e+00\n",
              "UTILITIES_PROCEED_pct            9.718842e-03\n",
              "PAYROLL_PROCEED_pct              9.711962e-01\n",
              "MORTGAGE_INTEREST_PROCEED_pct    3.355290e-03\n",
              "RENT_PROCEED_pct                 1.069868e-02\n",
              "REFINANCE_EIDL_PROCEED_pct       5.454211e-04\n",
              "HEALTH_CARE_PROCEED_pct          3.782740e-03\n",
              "DEBT_INTEREST_PROCEED_pct        6.979227e-04\n",
              "PROCEED_Per_Job                           inf\n",
              "Name: mean, dtype: float64"
            ]
          },
          "metadata": {},
          "execution_count": 51
        }
      ]
    },
    {
      "cell_type": "code",
      "source": [
        "sns.histplot(mean.values[:31])"
      ],
      "metadata": {
        "colab": {
          "base_uri": "https://localhost:8080/",
          "height": 295
        },
        "id": "TEIlHChP6cYu",
        "outputId": "9333d989-e702-46e4-9243-9f37366e619c"
      },
      "execution_count": null,
      "outputs": [
        {
          "output_type": "execute_result",
          "data": {
            "text/plain": [
              "<matplotlib.axes._subplots.AxesSubplot at 0x7f36b7e18f10>"
            ]
          },
          "metadata": {},
          "execution_count": 52
        },
        {
          "output_type": "display_data",
          "data": {
            "text/plain": [
              "<Figure size 432x288 with 1 Axes>"
            ],
            "image/png": "[encoded data removed]"
          },
          "metadata": {
            "needs_background": "light"
          }
        }
      ]
    },
    {
      "cell_type": "markdown",
      "source": [
        "5.What is the mean for each variable? What do the means tell you about your dataset as a\n",
        "whole?"
      ],
      "metadata": {
        "id": "tT6UK3Nu7BYY"
      }
    },
    {
      "cell_type": "code",
      "source": [
        "mean=data2.describe().loc[\"mean\",:]"
      ],
      "metadata": {
        "id": "IPXF-UjE7CZ0"
      },
      "execution_count": null,
      "outputs": []
    },
    {
      "cell_type": "markdown",
      "source": [
        "6.Categorise the data based on the column “BorrowerCity” and plot the histogram based on\n",
        "“BorrowerCity” columns"
      ],
      "metadata": {
        "id": "viGxbNYK-dyI"
      }
    },
    {
      "cell_type": "code",
      "source": [
        "s=pd.Categorical(data2['BorrowerCity'])\n",
        "sns.histplot(data=data2, x=\"BorrowerCity\")\n",
        "s\n",
        "\n"
      ],
      "metadata": {
        "colab": {
          "base_uri": "https://localhost:8080/",
          "height": 350
        },
        "id": "k9tIs9Bv8h7K",
        "outputId": "12fcc0f8-d638-4aef-b4f1-67c177e66253"
      },
      "execution_count": null,
      "outputs": [
        {
          "output_type": "execute_result",
          "data": {
            "text/plain": [
              "['sumter', 'north charleston', 'seattle', 'san bernardino', 'unknown', ..., 'chatham', 'avon', 'boston', 'boston', 'marlborough']\n",
              "Length: 410823\n",
              "Categories (6825, object): ['02155', '101 commerical way', '156 betsy layne', '33023', ...,\n",
              "                            'zion', 'zionsville', 'zolfo springs', 'zwolle']"
            ]
          },
          "metadata": {},
          "execution_count": 56
        },
        {
          "output_type": "display_data",
          "data": {
            "text/plain": [
              "<Figure size 432x288 with 1 Axes>"
            ],
            "image/png": "[encoded data removed]"
          },
          "metadata": {
            "needs_background": "light"
          }
        }
      ]
    },
    {
      "cell_type": "markdown",
      "source": [
        "7. Calculate the below values for the column “InitialApprovalAmount”\n",
        "count , mean , std ,min, 25% ,50% , 75% , max"
      ],
      "metadata": {
        "id": "oQ5fcMyT8xO2"
      }
    },
    {
      "cell_type": "code",
      "source": [
        "data2['InitialApprovalAmount'].describe()\n"
      ],
      "metadata": {
        "colab": {
          "base_uri": "https://localhost:8080/"
        },
        "id": "CImZfoWI8yJj",
        "outputId": "fa5f969d-ada5-48fb-cc1d-5efeb886f262"
      },
      "execution_count": null,
      "outputs": [
        {
          "output_type": "execute_result",
          "data": {
            "text/plain": [
              "count    4.529000e+04\n",
              "mean     9.352978e+05\n",
              "std      1.240445e+06\n",
              "min      1.600000e+02\n",
              "25%      2.156456e+05\n",
              "50%      3.836200e+05\n",
              "75%      1.378618e+06\n",
              "max      1.000000e+07\n",
              "Name: InitialApprovalAmount, dtype: float64"
            ]
          },
          "metadata": {},
          "execution_count": 32
        }
      ]
    },
    {
      "cell_type": "markdown",
      "source": [
        "8.Calculate the below values for column “CurrentApprovalAmount”\n",
        "count , mean , std ,min, 25% ,50% , 75% , max\n"
      ],
      "metadata": {
        "id": "aSiYKJVS861B"
      }
    },
    {
      "cell_type": "code",
      "source": [
        "data2['CurrentApprovalAmount'].describe()"
      ],
      "metadata": {
        "colab": {
          "base_uri": "https://localhost:8080/"
        },
        "id": "hBLKNr-v879m",
        "outputId": "cbe5d1bd-eef9-4529-a85c-a7dd80fea0a9"
      },
      "execution_count": null,
      "outputs": [
        {
          "output_type": "execute_result",
          "data": {
            "text/plain": [
              "count    4.529000e+04\n",
              "mean     9.317418e+05\n",
              "std      1.227061e+06\n",
              "min      1.500000e+05\n",
              "25%      2.161000e+05\n",
              "50%      3.844705e+05\n",
              "75%      1.380711e+06\n",
              "max      1.000000e+07\n",
              "Name: CurrentApprovalAmount, dtype: float64"
            ]
          },
          "metadata": {},
          "execution_count": 33
        }
      ]
    },
    {
      "cell_type": "markdown",
      "source": [
        "9.How many distinct “ProjectState '' are available in the dataset? List them"
      ],
      "metadata": {
        "id": "uqN24KwW9PlI"
      }
    },
    {
      "cell_type": "code",
      "source": [
        "pd.unique(pd.Series(pd.Categorical(data2['ProjectState'])))"
      ],
      "metadata": {
        "colab": {
          "base_uri": "https://localhost:8080/"
        },
        "id": "d9vsdkhl9Qhj",
        "outputId": "2827a313-0e5f-4071-feee-34ce090277fc"
      },
      "execution_count": null,
      "outputs": [
        {
          "output_type": "execute_result",
          "data": {
            "text/plain": [
              "['SC', 'WA', 'CA', 'UNK', 'FL', ..., 'AR', 'AS', 'AZ', 'OH', 'HI']\n",
              "Length: 13\n",
              "Categories (13, object): ['AK', 'AL', 'AR', 'AS', ..., 'OH', 'SC', 'UNK', 'WA']"
            ]
          },
          "metadata": {},
          "execution_count": 35
        }
      ]
    },
    {
      "cell_type": "markdown",
      "source": [
        "10.List out the counts by colmun bussiness type from the gievn dataset"
      ],
      "metadata": {
        "id": "k6W9DGCY9d0P"
      }
    },
    {
      "cell_type": "code",
      "source": [
        "data2['BusinessType'].count()"
      ],
      "metadata": {
        "colab": {
          "base_uri": "https://localhost:8080/"
        },
        "id": "r8dGSfNB9epK",
        "outputId": "059b9deb-0ad2-4941-fd7f-2dcf1cd4df2e"
      },
      "execution_count": null,
      "outputs": [
        {
          "output_type": "execute_result",
          "data": {
            "text/plain": [
              "45289"
            ]
          },
          "metadata": {},
          "execution_count": 36
        }
      ]
    }
  ]
}